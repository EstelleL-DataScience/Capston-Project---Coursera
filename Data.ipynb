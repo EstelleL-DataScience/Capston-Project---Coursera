{
 "cells": [
  {
   "cell_type": "markdown",
   "metadata": {},
   "source": [
    "### Data overview"
   ]
  },
  {
   "cell_type": "markdown",
   "metadata": {},
   "source": [
    "We will use a combination of data gathered from Wikipedia, a .csv file and Foursquare API. \n",
    "- Wikipedia will provide the names and boroughs of the different neighborhoods in Toronto.\n",
    "- The Geographical location of these neighbourhoods will be obtained from a csv file.\n",
    "- Foursquare API will be used to gain information on the above mentioned neighborhoods, specifically the number and quality of Italian restaurants in these neighborhoods. The Venue data will help find which neighbourhood is best suitable to open an Italian restaurant.\n"
   ]
  },
  {
   "cell_type": "markdown",
   "metadata": {},
   "source": [
    "##### **Toronto Neighborhoods from Wikipedia**"
   ]
  },
  {
   "cell_type": "markdown",
   "metadata": {},
   "source": [
    "Source : https://en.wikipedia.org/wiki/List_of_postal_codes_of_Canada:_M"
   ]
  },
  {
   "cell_type": "markdown",
   "metadata": {},
   "source": [
    "This table will be downloaded, cleaned and transformed into a Pandas data frame"
   ]
  },
  {
   "cell_type": "markdown",
   "metadata": {},
   "source": [
    "<img src=\"Toronto_neighborhood.jpg\">"
   ]
  },
  {
   "cell_type": "markdown",
   "metadata": {},
   "source": [
    "#### **Geographical location of neighbourhoods**"
   ]
  },
  {
   "cell_type": "markdown",
   "metadata": {},
   "source": [
    "The csv file giving the coordinates of Toronto's neighborhoods is the one provided week 3 of the course."
   ]
  },
  {
   "cell_type": "markdown",
   "metadata": {},
   "source": [
    "<img src=\"Coordonnees.jpg\">"
   ]
  },
  {
   "cell_type": "markdown",
   "metadata": {},
   "source": [
    "#### **Foursquare API**\n",
    "Foursquare is a location data provider with information about all manner of venues and events within an area of interest. Such information includes venue names, locations, menus and even photos. After finding the list of neighborhoods and their geospatial coordinates, we then connect to the Foursquare API to gather information about venues inside each and every neighborhood. \n",
    "\n",
    "The data retrieved from Foursquare API contained information of venues within a specified distance:\n",
    "\n",
    "- Neighborhood\n",
    "- Neighborhood Latitude\n",
    "- Neighborhood Longitude\n",
    "- Venue\n",
    "- Name of the venue e.g. the name of a store or restaurant\n",
    "- Venue Latitude\n",
    "- Venue Longitude\n",
    "- Venue Category"
   ]
  }
 ],
 "metadata": {
  "kernelspec": {
   "display_name": "Python",
   "language": "python",
   "name": "conda-env-python-py"
  },
  "language_info": {
   "codemirror_mode": {
    "name": "ipython",
    "version": 3
   },
   "file_extension": ".py",
   "mimetype": "text/x-python",
   "name": "python",
   "nbconvert_exporter": "python",
   "pygments_lexer": "ipython3",
   "version": "3.6.11"
  }
 },
 "nbformat": 4,
 "nbformat_minor": 4
}
