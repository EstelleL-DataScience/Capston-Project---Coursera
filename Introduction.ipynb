{
 "cells": [
  {
   "cell_type": "markdown",
   "metadata": {},
   "source": [
    "### 1. Introduction/Business problem"
   ]
  },
  {
   "cell_type": "markdown",
   "metadata": {},
   "source": [
    "This project explores the best locations to open an Italian restaurant through the city of Toronto. Toronto, the capital city on the Province of Ontario is the most populous city in Canada. As an important destination for immigrants, it brings in a variety of people from different ethnic. This multicultarism is seen through the various neighbourhoods and the diversity of its food. As mentionned in a global survey by market research firm YouGov, Italian food is the World's favorite cuisine [1]. Furthermore, Toronto is also the fourth largest home to Italians with a population of over 500k. There are then numerous opportunities to open a new Italian restaurant in Toronto."
   ]
  },
  {
   "cell_type": "markdown",
   "metadata": {},
   "source": [
    "Opening a restaurant is a lot of commitment and investors need to assess the risk factors before investing. Through this project, I’m going to analyze restaurant venues present in the different neighborhoods of Toronto and predict which location would be most suitable to open an Italian restaurant."
   ]
  },
  {
   "cell_type": "markdown",
   "metadata": {},
   "source": [
    "This project is aimed towards Entrepreneurs or Busines owners who plan to invest in the idea of opening an Italian restaurant in Toronto and should help to answer the following question: Where should we open our Italian Restaurant?"
   ]
  },
  {
   "cell_type": "markdown",
   "metadata": {},
   "source": [
    "#### References"
   ]
  },
  {
   "cell_type": "markdown",
   "metadata": {},
   "source": [
    "[1] https://www.fsrmagazine.com/fsr/sapore/why-italian-world-s-favorite-food"
   ]
  }
 ],
 "metadata": {
  "kernelspec": {
   "display_name": "Python",
   "language": "python",
   "name": "conda-env-python-py"
  },
  "language_info": {
   "codemirror_mode": {
    "name": "ipython",
    "version": 3
   },
   "file_extension": ".py",
   "mimetype": "text/x-python",
   "name": "python",
   "nbconvert_exporter": "python",
   "pygments_lexer": "ipython3",
   "version": "3.6.11"
  }
 },
 "nbformat": 4,
 "nbformat_minor": 4
}
